{
 "cells": [
  {
   "cell_type": "markdown",
   "id": "3a0a68a3",
   "metadata": {},
   "source": [
    "# [1] Intro to Python"
   ]
  },
  {
   "cell_type": "markdown",
   "id": "687e6b0a",
   "metadata": {},
   "source": [
    "In this lecture, we will be going through a brief introduction to python and the skills you will be using for the rest of the course. I will first show you how to use these aspects of python, and then give you time to complete a problem set notebook which will apply the topics we just covered."
   ]
  },
  {
   "cell_type": "markdown",
   "id": "441abeb3",
   "metadata": {},
   "source": [
    "## Numbers:"
   ]
  },
  {
   "cell_type": "markdown",
   "id": "d5839d44",
   "metadata": {},
   "source": [
    "In python, there are different kinds of variables which can be used to store numbers of varying precision. In this section, we will walk you through creating and assigning these variables, how to display their values, and explain their limitations."
   ]
  },
  {
   "cell_type": "code",
   "execution_count": 19,
   "id": "05e220cd",
   "metadata": {},
   "outputs": [],
   "source": [
    "# Integers and floating point numbers (floats)\n",
    "\n",
    "# <COGINST>\n",
    "a = 5\n",
    "b = 6.5\n",
    "# </COGINST>"
   ]
  },
  {
   "cell_type": "code",
   "execution_count": 20,
   "id": "2c55133d",
   "metadata": {},
   "outputs": [
    {
     "name": "stdout",
     "output_type": "stream",
     "text": [
      "5\n",
      "6.5\n"
     ]
    }
   ],
   "source": [
    "# Print\n",
    "\n",
    "# <COGINST>\n",
    "'''To display the values of variables, you can use the print function'''\n",
    "print(a)\n",
    "print(b)\n",
    "# </COGINST>"
   ]
  },
  {
   "cell_type": "markdown",
   "id": "b5b5a077",
   "metadata": {},
   "source": [
    "## Math Functions (add, subtract, multiply, divide, exponent, mod):"
   ]
  },
  {
   "cell_type": "markdown",
   "id": "6419d588",
   "metadata": {},
   "source": [
    "In python, there are math functions which you can use to perform both the standard operations you use everyday, and some others. In this section, we will show you how to perform these functions and what they can be used for outside of standard calculations."
   ]
  },
  {
   "cell_type": "code",
   "execution_count": 21,
   "id": "d13a6afb",
   "metadata": {},
   "outputs": [
    {
     "name": "stdout",
     "output_type": "stream",
     "text": [
      "11.5\n"
     ]
    }
   ],
   "source": [
    "# Addition\n",
    "'''Type example code below'''\n",
    "\n",
    "# <COGINST>\n",
    "c = a + b\n",
    "print(c)\n",
    "# </COGINST>"
   ]
  },
  {
   "cell_type": "code",
   "execution_count": 22,
   "id": "5220065f",
   "metadata": {},
   "outputs": [
    {
     "name": "stdout",
     "output_type": "stream",
     "text": [
      "-1.5\n"
     ]
    }
   ],
   "source": [
    "# Subtraction\n",
    "'''Type example code below'''\n",
    "\n",
    "# <COGINST>\n",
    "c = a - b\n",
    "print(c)\n",
    "# </COGINST>"
   ]
  },
  {
   "cell_type": "code",
   "execution_count": 23,
   "id": "4d31be4a",
   "metadata": {},
   "outputs": [
    {
     "name": "stdout",
     "output_type": "stream",
     "text": [
      "5.551115123125783e-17\n"
     ]
    }
   ],
   "source": [
    "# <COGINST>\n",
    "'''When performing operations on floating point numbers, \n",
    "the method which the computer uses to store the values \n",
    "can result in minor variations from expected values.  \n",
    "You do not need to understand why this is, but it is \n",
    "important to be aware of it.  We will show you how \n",
    "to account for this soon.'''\n",
    "# </COGINST>\n",
    "# Run this cell:\n",
    "print(0.1 + 0.1 + 0.1 - 0.3)"
   ]
  },
  {
   "cell_type": "code",
   "execution_count": 24,
   "id": "a830c31e",
   "metadata": {},
   "outputs": [
    {
     "name": "stdout",
     "output_type": "stream",
     "text": [
      "32.5\n"
     ]
    }
   ],
   "source": [
    "# Multiplication\n",
    "'''Type example code below'''\n",
    "\n",
    "# <COGINST>\n",
    "c = a * b\n",
    "print(c)\n",
    "# </COGINST>"
   ]
  },
  {
   "cell_type": "code",
   "execution_count": 25,
   "id": "42dbaca3",
   "metadata": {},
   "outputs": [
    {
     "name": "stdout",
     "output_type": "stream",
     "text": [
      "0.7692307692307693\n"
     ]
    }
   ],
   "source": [
    "# Division\n",
    "'''Type example code below'''\n",
    "\n",
    "# <COGINST>\n",
    "c = a / b\n",
    "print(c)\n",
    "# </COGINST>"
   ]
  },
  {
   "cell_type": "code",
   "execution_count": 26,
   "id": "21247e4d",
   "metadata": {},
   "outputs": [
    {
     "name": "stdout",
     "output_type": "stream",
     "text": [
      "25\n"
     ]
    }
   ],
   "source": [
    "# Exponents\n",
    "'''Type example code below'''\n",
    "\n",
    "# <COGINST>\n",
    "c = a**2\n",
    "print(c)\n",
    "# </COGINST>"
   ]
  },
  {
   "cell_type": "code",
   "execution_count": 27,
   "id": "e64d4c98",
   "metadata": {},
   "outputs": [
    {
     "name": "stdout",
     "output_type": "stream",
     "text": [
      "1\n"
     ]
    }
   ],
   "source": [
    "# Mod\n",
    "'''Type example code below'''\n",
    "\n",
    "# <COGINST>\n",
    "c = a % 2\n",
    "print(c)\n",
    "# </COGINST>"
   ]
  },
  {
   "cell_type": "code",
   "execution_count": 28,
   "id": "c2e8556e",
   "metadata": {},
   "outputs": [
    {
     "name": "stdout",
     "output_type": "stream",
     "text": [
      "1.0\n"
     ]
    }
   ],
   "source": [
    "# Floor Division\n",
    "'''Type example code below'''\n",
    "\n",
    "# <COGINST>\n",
    "c = b // a\n",
    "print(c)\n",
    "# </COGINST>"
   ]
  },
  {
   "cell_type": "markdown",
   "id": "391ce586",
   "metadata": {},
   "source": [
    "## Booleans (True/False)"
   ]
  },
  {
   "cell_type": "markdown",
   "id": "786aea57",
   "metadata": {},
   "source": [
    "In python, there are variables called booleans which can have the values true or false. In this section, we will show you how to assign boolean variables, check their values, and use them in meaningful ways."
   ]
  },
  {
   "cell_type": "code",
   "execution_count": 29,
   "id": "31edfea4",
   "metadata": {},
   "outputs": [
    {
     "name": "stdout",
     "output_type": "stream",
     "text": [
      "True\n"
     ]
    }
   ],
   "source": [
    "# Creating and assigning booleans\n",
    "'''Type example code below'''\n",
    "\n",
    "# <COGINST>\n",
    "condition1 = True\n",
    "print(condition1)\n",
    "# </COGINST>"
   ]
  },
  {
   "cell_type": "code",
   "execution_count": 30,
   "id": "33b0f38d",
   "metadata": {},
   "outputs": [
    {
     "name": "stdout",
     "output_type": "stream",
     "text": [
      "False\n",
      "True\n",
      "False\n",
      "True\n"
     ]
    }
   ],
   "source": [
    "# Comparison statements\n",
    "'''Type example code below'''\n",
    "\n",
    "# <COGINST>\n",
    "print(a == b)\n",
    "print(a != b)\n",
    "print(a > b)\n",
    "print(a < b)\n",
    "# </COGINST>"
   ]
  },
  {
   "cell_type": "code",
   "execution_count": 31,
   "id": "881e2e1c",
   "metadata": {},
   "outputs": [
    {
     "name": "stdout",
     "output_type": "stream",
     "text": [
      "True\n",
      "False\n",
      "True\n",
      "False\n"
     ]
    }
   ],
   "source": [
    "# Using mutiple conditions (and/or)\n",
    "'''Type example code below'''\n",
    "\n",
    "# <COGINST>\n",
    "# There may be times where you will need \n",
    "# to check mutiple conditions at the same time, \n",
    "# or see if any one conditions in a set is true.  \n",
    "# You can do this using and/or statements.  \n",
    "\n",
    "print(True and True)\n",
    "print(True and False)\n",
    "print(True or False)\n",
    "print(False or False)\n",
    "# </COGINST>"
   ]
  },
  {
   "cell_type": "markdown",
   "id": "021e2050",
   "metadata": {},
   "source": [
    "## And\n",
    "| Condition 1 | Condition 2 | Result |\n",
    "| ------------- | ------------- | ------------- |\n",
    "| True  | True  | True |\n",
    "| True  | False  | False |\n",
    "| False | True | False |\n",
    "| False | False | False |\n",
    "\n",
    "## Or\n",
    "| Condition 1 | Condition 2 | Result |\n",
    "| ------------- | ------------- | ------------- |\n",
    "| True  | True  | True |\n",
    "| True  | False  | True |\n",
    "| False | True | True |\n",
    "| False | False | False |"
   ]
  },
  {
   "cell_type": "code",
   "execution_count": 32,
   "id": "e9c5ad7e",
   "metadata": {},
   "outputs": [
    {
     "name": "stdout",
     "output_type": "stream",
     "text": [
      "False\n"
     ]
    }
   ],
   "source": [
    "# When checking if two floating point numbers are equivalent, we cannot use the == operator.  \n",
    "# This is because of the limited precision we saw illustrated in the earlier example.  \n",
    "# Try checking if 0.1 + 0.1 + 0.1 is equal to 0.3\n",
    "\n",
    "# <COGINST>\n",
    "print(0.1 + 0.1 + 0.1 == 0.3)\n",
    "# </COGINST>"
   ]
  },
  {
   "cell_type": "code",
   "execution_count": 33,
   "id": "4854db5e",
   "metadata": {},
   "outputs": [
    {
     "name": "stdout",
     "output_type": "stream",
     "text": [
      "True\n"
     ]
    }
   ],
   "source": [
    "# There is a function in the math module ofpython which allows us to check \n",
    "# if two floats are close enough in value to be considered equal.  \n",
    "\n",
    "# <COGINST>\n",
    "import math # We will cover imports later. For now, just type this line.  \n",
    "print(math.isclose((0.1+0.1+0.1), 0.3))\n",
    "# </COGINST>"
   ]
  },
  {
   "cell_type": "markdown",
   "id": "a7a5eb1f",
   "metadata": {},
   "source": [
    "## Types"
   ]
  },
  {
   "cell_type": "markdown",
   "id": "95dde3d6",
   "metadata": {},
   "source": [
    "Every variable you have worked with so far has been what is called an instance of an object of its corresponding type. For instance, when you created the variable 'a' and made it equal 5, you create an instance of the integer type whose name is 'a' and value is 5. Integers, floats, and booleans are all objects. There are other types of objects as well that we will cover later, and additional types can be created through the code you write.\n",
    "\n",
    "If this seems a bit confusing, that is ok. It will make more sense as we work through this section.\n",
    "In this section, we will be showing you a few ways to check what type an object is and how that can be useful."
   ]
  },
  {
   "cell_type": "code",
   "execution_count": 34,
   "id": "6cf26af0",
   "metadata": {},
   "outputs": [
    {
     "name": "stdout",
     "output_type": "stream",
     "text": [
      "<class 'int'>\n"
     ]
    }
   ],
   "source": [
    "# One way to check the type of an object is to use type() \n",
    "'''Type example code below'''\n",
    "\n",
    "# <COGINST>\n",
    "print(type(a))\n",
    "# </COGINST>"
   ]
  },
  {
   "cell_type": "code",
   "execution_count": 36,
   "id": "a7dfea04",
   "metadata": {},
   "outputs": [
    {
     "name": "stdout",
     "output_type": "stream",
     "text": [
      "True\n"
     ]
    }
   ],
   "source": [
    "# To check if an object is of a specific type, you can use isinstance()\n",
    "'''Type example code below'''\n",
    "\n",
    "# <COGINST>\n",
    "print(isinstance(a, int))\n",
    "# </COGINST>"
   ]
  },
  {
   "cell_type": "markdown",
   "id": "94799570",
   "metadata": {},
   "source": [
    "## The rest is only if we have time after the problem set"
   ]
  },
  {
   "cell_type": "markdown",
   "id": "2ff7f1dd",
   "metadata": {},
   "source": [
    "## Strings"
   ]
  },
  {
   "cell_type": "markdown",
   "id": "80450c8f",
   "metadata": {},
   "source": [
    "Strings are a type of object which can store text.  Where a number like an integer or float would store a number, a string object will store characters.  "
   ]
  },
  {
   "cell_type": "code",
   "execution_count": 37,
   "id": "9eb4414c",
   "metadata": {},
   "outputs": [],
   "source": [
    "# Creating a string\n",
    "'''Type example code below'''\n",
    "\n",
    "# <COGINST>\n",
    "sentence1 = \"I love python!\"\n",
    "# </COGINST>"
   ]
  },
  {
   "cell_type": "code",
   "execution_count": 38,
   "id": "ed8e0278",
   "metadata": {},
   "outputs": [
    {
     "name": "stdout",
     "output_type": "stream",
     "text": [
      "I love python!\n"
     ]
    }
   ],
   "source": [
    "# You can print strings the same way you would print a number.  Try printing sentence1\n",
    "\n",
    "# <COGINST>\n",
    "print(sentence1)\n",
    "# </COGINST>"
   ]
  },
  {
   "cell_type": "code",
   "execution_count": 39,
   "id": "829083a5",
   "metadata": {},
   "outputs": [
    {
     "name": "stdout",
     "output_type": "stream",
     "text": [
      "False\n"
     ]
    }
   ],
   "source": [
    "# Strings can store letters, numbers, spaces, special characters, etc.  However, a number stored as a string cannot be used\n",
    "# the same way an integer or float would.  Try checking if the string '3' is equal to the integer 3\n",
    "\n",
    "# <COGINST>\n",
    "print('3' == 3)\n",
    "# </COGINST>"
   ]
  },
  {
   "cell_type": "code",
   "execution_count": 40,
   "id": "356d3f9c",
   "metadata": {},
   "outputs": [
    {
     "name": "stdout",
     "output_type": "stream",
     "text": [
      "word 1 word 2\n"
     ]
    }
   ],
   "source": [
    "# Strings can be added together, but it doesn't add them like numbers.  Instead, it combines the strings\n",
    "'''Type example code below'''\n",
    "\n",
    "# <COGINST>\n",
    "print(\"word 1 \" + \"word 2\")\n",
    "# </COGINST>"
   ]
  },
  {
   "cell_type": "code",
   "execution_count": 41,
   "id": "645ff549",
   "metadata": {},
   "outputs": [
    {
     "name": "stdout",
     "output_type": "stream",
     "text": [
      "True\n"
     ]
    }
   ],
   "source": [
    "# You can check if two strings are the same using the == operator\n",
    "'''Type example code below'''\n",
    "\n",
    "# <COGINST>\n",
    "print('word' == 'word')\n",
    "# </COGINST>"
   ]
  },
  {
   "cell_type": "markdown",
   "id": "5a286970",
   "metadata": {},
   "source": [
    "## Conditional Statements"
   ]
  },
  {
   "cell_type": "markdown",
   "id": "c5301925",
   "metadata": {},
   "source": [
    "It can be useful to be able to write code which will only perform an action if a condition is met, and will perform a different one otherwise. For this, we use something called if statements."
   ]
  },
  {
   "cell_type": "code",
   "execution_count": 42,
   "id": "1448ea99",
   "metadata": {},
   "outputs": [
    {
     "name": "stdout",
     "output_type": "stream",
     "text": [
      "true\n"
     ]
    }
   ],
   "source": [
    "# Our first if statement!\n",
    "'''Type example code below'''\n",
    "\n",
    "# <COGINST>\n",
    "if(True):\n",
    "    print('true')\n",
    "# </COGINST>"
   ]
  },
  {
   "cell_type": "code",
   "execution_count": 43,
   "id": "bdfed5a8",
   "metadata": {},
   "outputs": [],
   "source": [
    "# Now write the same statement with False in the parentheses\n",
    "\n",
    "# <COGINST>\n",
    "if(False):\n",
    "    print('true')\n",
    "# </COGINST>"
   ]
  },
  {
   "cell_type": "code",
   "execution_count": 44,
   "id": "d73d12b1",
   "metadata": {},
   "outputs": [
    {
     "name": "stdout",
     "output_type": "stream",
     "text": [
      "True\n",
      "true\n",
      "False\n"
     ]
    }
   ],
   "source": [
    "# There is no output because the statement skipped the code we put inside of it.  \n",
    "# Whatever you put in the parentheses will be evaluated first, and if the outcome is True the internal code will be run.  \n",
    "# Try putting other things as your condition and then we'll share a couple of the things you come up with. \n",
    "\n",
    "# <COGINST> \n",
    "# Give them about 2 minutes to try some, then ask for 3 examples.  Show them that they can use ==, >=, and/or, etc. if\n",
    "# none of them come up with those on their own. \n",
    "\n",
    "# examples: if(True and False), if(True or False), if(3 == 3), if(3 != 2)\n",
    "\n",
    "# </COGINST>\n",
    "\n",
    "# Ex:\n",
    "print(1 == 1)\n",
    "if(1 == 1):\n",
    "    print('true')\n",
    "\n",
    "# Now you try!\n",
    "'''Ask for student examples'''\n"
   ]
  },
  {
   "cell_type": "markdown",
   "id": "cb807792",
   "metadata": {},
   "source": [
    "There is another part we can add to the if statement which will tell the code to do something different if the condition is false.  This is called an else.  "
   ]
  },
  {
   "cell_type": "code",
   "execution_count": 45,
   "id": "0f933b44",
   "metadata": {},
   "outputs": [
    {
     "name": "stdout",
     "output_type": "stream",
     "text": [
      "true\n"
     ]
    }
   ],
   "source": [
    "# Trying else statements\n",
    "'''Type example code below'''\n",
    "\n",
    "# <COGINST>\n",
    "if(True): \n",
    "    print('true')\n",
    "else: \n",
    "    print('false')\n",
    "# </COGINST>"
   ]
  },
  {
   "cell_type": "code",
   "execution_count": 46,
   "id": "ef2398d5",
   "metadata": {},
   "outputs": [
    {
     "name": "stdout",
     "output_type": "stream",
     "text": [
      "false\n"
     ]
    }
   ],
   "source": [
    "# The code printed 'true' because the condition was true.  It skipped the else statement because it ran the if statement.  \n",
    "# Try replacing the condition with False\n",
    "\n",
    "# <COGINST>\n",
    "if(False):\n",
    "    print('true')\n",
    "else:\n",
    "    print('false')\n",
    "# </COGINST>"
   ]
  },
  {
   "cell_type": "markdown",
   "id": "6ec769b5",
   "metadata": {},
   "source": [
    "The final addition to our chain of if and else statement is called an else-if (elif).  This allows us to do different things depending on which condition is true.  You can have as many elifs in the chain as you would like, but the code will skip all of the remaining statements once one of them is a success.  "
   ]
  },
  {
   "cell_type": "code",
   "execution_count": 47,
   "id": "960c9889",
   "metadata": {},
   "outputs": [
    {
     "name": "stdout",
     "output_type": "stream",
     "text": [
      "x=3\n"
     ]
    }
   ],
   "source": [
    "# if, elif, else\n",
    "'''Type example code below'''\n",
    "\n",
    "# We are going to create a number and see what it is equal to.  \n",
    "# There are much easier ways of doing this, but it makes for a good example.  \n",
    "\n",
    "# <COGINST>\n",
    "x = 3\n",
    "if(x == 1):\n",
    "    print('x=1')\n",
    "elif(x == 2):\n",
    "    print('x=2')\n",
    "elif(x == 3):\n",
    "    print('x=3')\n",
    "else:\n",
    "    print('x>3')\n",
    "# </COGINST>"
   ]
  }
 ],
 "metadata": {
  "jupytext": {
   "formats": "ipynb,md"
  },
  "kernelspec": {
   "display_name": "Python 3 (ipykernel)",
   "language": "python",
   "name": "python3"
  },
  "language_info": {
   "codemirror_mode": {
    "name": "ipython",
    "version": 3
   },
   "file_extension": ".py",
   "mimetype": "text/x-python",
   "name": "python",
   "nbconvert_exporter": "python",
   "pygments_lexer": "ipython3",
   "version": "3.12.2"
  }
 },
 "nbformat": 4,
 "nbformat_minor": 5
}
